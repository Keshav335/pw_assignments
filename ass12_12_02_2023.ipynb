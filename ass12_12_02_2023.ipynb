{
 "cells": [
  {
   "cell_type": "code",
   "execution_count": null,
   "id": "27575227-32a8-4316-a0b9-6da5aea13502",
   "metadata": {},
   "outputs": [],
   "source": [
    "#Q1 What is an exception in python? write the difference between exception and syntax errors.\n",
    "#error that occurs after passing the syntax test is called exception or logical error\n",
    "#(difference)When the proper syntax of the language is not followed then a syntax error is thrown(compiletime).\n",
    "#and exception is the runtime error due to mistake in programming logic.\n",
    "#If we do not handel exception correctly a runtime error can occur ,which can lead to abnormal termination of the program"
   ]
  },
  {
   "cell_type": "code",
   "execution_count": 1,
   "id": "0558d732-6d7d-45c0-8fc1-d773b522f7cd",
   "metadata": {},
   "outputs": [
    {
     "ename": "ZeroDivisionError",
     "evalue": "division by zero",
     "output_type": "error",
     "traceback": [
      "\u001b[0;31m---------------------------------------------------------------------------\u001b[0m",
      "\u001b[0;31mZeroDivisionError\u001b[0m                         Traceback (most recent call last)",
      "Cell \u001b[0;32mIn[1], line 7\u001b[0m\n\u001b[1;32m      5\u001b[0m x\u001b[38;5;241m=\u001b[39m\u001b[38;5;241m1\u001b[39m\n\u001b[1;32m      6\u001b[0m y\u001b[38;5;241m=\u001b[39m\u001b[38;5;241m0\u001b[39m\n\u001b[0;32m----> 7\u001b[0m z\u001b[38;5;241m=\u001b[39m\u001b[43mx\u001b[49m\u001b[38;5;241;43m/\u001b[39;49m\u001b[43my\u001b[49m\n\u001b[1;32m      8\u001b[0m p\u001b[38;5;241m=\u001b[39m\u001b[38;5;124m\"\u001b[39m\u001b[38;5;124mthis is very imp message\u001b[39m\u001b[38;5;124m\"\u001b[39m\n\u001b[1;32m      9\u001b[0m \u001b[38;5;28mprint\u001b[39m(p)\n",
      "\u001b[0;31mZeroDivisionError\u001b[0m: division by zero"
     ]
    }
   ],
   "source": [
    "#Q2 What happens when an exception is not handled ? explain with an example\n",
    "#If we do not handel exception correctly a runtime error can occur which can lead to abnormal termination of the program without giving \n",
    "#desired results.\n",
    "#the below cod will give divide by zero exception and stop the remaing program's executio\n",
    "x=1\n",
    "y=0\n",
    "z=x/y\n",
    "p=\"this is very imp message\"\n",
    "print(p)"
   ]
  },
  {
   "cell_type": "code",
   "execution_count": 2,
   "id": "a1bbd31b-5260-408c-be5b-75bbbb3895cc",
   "metadata": {},
   "outputs": [
    {
     "name": "stdout",
     "output_type": "stream",
     "text": [
      "Error: Denominator cannot be 0.\n",
      "This is finally block.\n"
     ]
    }
   ],
   "source": [
    "#Q3 Which python statements are used to catch and handle exceptions? Explain with an example\n",
    "#python statements used for exception handling\n",
    "#The (try-except) block is used to handle exceptions in Python.\n",
    "#the code that might generate an exception we put that in the (try) block. Every try block is followed by an (except) block.\n",
    "#For each try block, there can be zero or more except blocks. Multiple except blocks allow us to handle each exception differently.\n",
    "#In Python, the (finally) block is always executed no matter whether there is an exception or not.The finally block is optional. \n",
    "#And, for each try block, there can be only one finally block.\n",
    "try:\n",
    "    numerator = 10\n",
    "    denominator = 0\n",
    "\n",
    "    result = numerator/denominator\n",
    "\n",
    "    print(result)\n",
    "except:\n",
    "    print(\"Error: Denominator cannot be 0.\")\n",
    "    \n",
    "finally:\n",
    "    print(\"This is finally block.\")"
   ]
  },
  {
   "cell_type": "code",
   "execution_count": 3,
   "id": "bb9f96ea-373f-470b-94ee-401ef8b14a52",
   "metadata": {},
   "outputs": [
    {
     "name": "stdin",
     "output_type": "stream",
     "text": [
      "Enter a number:  14\n"
     ]
    },
    {
     "name": "stdout",
     "output_type": "stream",
     "text": [
      "15\n",
      "Error: Denominator cannot be 0.\n",
      "This is finally block.\n"
     ]
    },
    {
     "ename": "Exception",
     "evalue": "Sorry, no numbers below zero",
     "output_type": "error",
     "traceback": [
      "\u001b[0;31m---------------------------------------------------------------------------\u001b[0m",
      "\u001b[0;31mException\u001b[0m                                 Traceback (most recent call last)",
      "Cell \u001b[0;32mIn[3], line 31\u001b[0m\n\u001b[1;32m     29\u001b[0m x \u001b[38;5;241m=\u001b[39m \u001b[38;5;241m-\u001b[39m\u001b[38;5;241m1\u001b[39m\n\u001b[1;32m     30\u001b[0m \u001b[38;5;28;01mif\u001b[39;00m x \u001b[38;5;241m<\u001b[39m \u001b[38;5;241m0\u001b[39m:\n\u001b[0;32m---> 31\u001b[0m   \u001b[38;5;28;01mraise\u001b[39;00m \u001b[38;5;167;01mException\u001b[39;00m(\u001b[38;5;124m\"\u001b[39m\u001b[38;5;124mSorry, no numbers below zero\u001b[39m\u001b[38;5;124m\"\u001b[39m)\n",
      "\u001b[0;31mException\u001b[0m: Sorry, no numbers below zero"
     ]
    }
   ],
   "source": [
    "#Q4 explain with an example a)try and else b)finally c)raise\n",
    "#Python try with else \n",
    "#If want to run a certain block of code if the code block inside try runs without any errors for this we can use optional else keyword with \n",
    "#the try statement.\n",
    "try:\n",
    "    num = int(input(\"Enter a number: \"))\n",
    "    assert num % 2 == 0\n",
    "except:\n",
    "    print(\"Not an even number!\")\n",
    "else:\n",
    "    odd = num+1\n",
    "    print(odd)\n",
    "\n",
    "#python try with finally \n",
    "#we use finally when we want to execute a block of code for sure no mater exception occur or not\n",
    "try:\n",
    "    numerator = 10\n",
    "    denominator = 0\n",
    "\n",
    "    result = numerator/denominator\n",
    "    print(result)\n",
    "except:\n",
    "    print(\"Error: Denominator cannot be 0.\")\n",
    "finally:\n",
    "    print(\"This is finally block.\")\n",
    "\n",
    "#python try with raise\n",
    "# To throw an exception we use raise keyword.\n",
    "x = -1\n",
    "if x < 0:\n",
    "  raise Exception(\"Sorry, no numbers below zero\")"
   ]
  },
  {
   "cell_type": "code",
   "execution_count": 4,
   "id": "8f3d5d55-9707-4b81-8615-d7000289af8e",
   "metadata": {},
   "outputs": [
    {
     "name": "stdin",
     "output_type": "stream",
     "text": [
      "Enter your class:  12\n"
     ]
    },
    {
     "name": "stdout",
     "output_type": "stream",
     "text": [
      "Eligible for JEE\n"
     ]
    }
   ],
   "source": [
    "#What are custom exception in python? why do we need custom exception? Explain with an example\n",
    "#also known as user defined exception\n",
    "# to raise an exception acording to the requirements of the project\n",
    "# In Python, we can define custom exceptions by creating a new class that is derived from the built-in Exception class.\n",
    "#We use custome exceptions because\n",
    "#Built-in exceptions offer information about Python-related problems, and custom exceptions will add information about project-related problems.\n",
    "# That way, we can design our code (and traceback, if an exception is raised) in a way that combines Python code with the language of the project.\n",
    "\n",
    "class InvalidAgeException(Exception):\n",
    "    \"Raised when the class is less than 12\"\n",
    "    pass\n",
    "myClass = 12\n",
    "try:\n",
    "    input_num = int(input(\"Enter your class: \"))\n",
    "    if input_num < myClass:\n",
    "        raise InvalidAgeException\n",
    "    else:\n",
    "        print(\"Eligible for JEE\")\n",
    "except InvalidAgeException:\n",
    "    print(\"Exception occurred: Invalid class\")"
   ]
  },
  {
   "cell_type": "code",
   "execution_count": 5,
   "id": "c3ee4e6a-0a50-46df-8d31-f3f82e5c56fe",
   "metadata": {},
   "outputs": [
    {
     "name": "stdin",
     "output_type": "stream",
     "text": [
      "Enter Your number:  100\n"
     ]
    },
    {
     "ename": "num",
     "evalue": "your Number is not in (200, 2000) range",
     "output_type": "error",
     "traceback": [
      "\u001b[0;31m---------------------------------------------------------------------------\u001b[0m",
      "\u001b[0;31mnum\u001b[0m                                       Traceback (most recent call last)",
      "Cell \u001b[0;32mIn[5], line 8\u001b[0m\n\u001b[1;32m      6\u001b[0m yourNum \u001b[38;5;241m=\u001b[39m \u001b[38;5;28mint\u001b[39m(\u001b[38;5;28minput\u001b[39m(\u001b[38;5;124m\"\u001b[39m\u001b[38;5;124mEnter Your number: \u001b[39m\u001b[38;5;124m\"\u001b[39m))\n\u001b[1;32m      7\u001b[0m \u001b[38;5;28;01mif\u001b[39;00m \u001b[38;5;129;01mnot\u001b[39;00m \u001b[38;5;241m200\u001b[39m \u001b[38;5;241m<\u001b[39m yourNum \u001b[38;5;241m<\u001b[39m \u001b[38;5;241m2000\u001b[39m:\n\u001b[0;32m----> 8\u001b[0m     \u001b[38;5;28;01mraise\u001b[39;00m num(yourNum)\n",
      "\u001b[0;31mnum\u001b[0m: your Number is not in (200, 2000) range"
     ]
    }
   ],
   "source": [
    "class num(Exception):\n",
    "    def __init__(self, yourNum, message=\"your Number is not in (200, 2000) range\"):\n",
    "        self.yourNum = yourNum\n",
    "        self.message = message\n",
    "        super().__init__(self.message)\n",
    "yourNum = int(input(\"Enter Your number: \"))\n",
    "if not 200 < yourNum < 2000:\n",
    "    raise num(yourNum)"
   ]
  },
  {
   "cell_type": "code",
   "execution_count": null,
   "id": "a88baddf-c012-48e4-b08e-c6dc457a745e",
   "metadata": {},
   "outputs": [],
   "source": []
  }
 ],
 "metadata": {
  "kernelspec": {
   "display_name": "Python 3 (ipykernel)",
   "language": "python",
   "name": "python3"
  },
  "language_info": {
   "codemirror_mode": {
    "name": "ipython",
    "version": 3
   },
   "file_extension": ".py",
   "mimetype": "text/x-python",
   "name": "python",
   "nbconvert_exporter": "python",
   "pygments_lexer": "ipython3",
   "version": "3.10.8"
  }
 },
 "nbformat": 4,
 "nbformat_minor": 5
}
