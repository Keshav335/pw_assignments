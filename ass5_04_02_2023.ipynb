{
 "cells": [
  {
   "cell_type": "code",
   "execution_count": 1,
   "id": "aeaa7a9c-f574-4ec3-8659-f8f4e4051933",
   "metadata": {},
   "outputs": [
    {
     "name": "stdout",
     "output_type": "stream",
     "text": [
      "[('Virat Kohli', 24936), ('Jack Kallis', 25534), ('Ricky Ponting', 27483), ('Sachin Tendulkar', 34357)]\n"
     ]
    }
   ],
   "source": [
    "\"\"\"Q1. Create a python program to sort the given list of tuples based on integer value using a lambda function.\"\"\"\n",
    "l=[('Sachin Tendulkar', 34357), ('Ricky Ponting', 27483), ('Jack Kallis', 25534), ('Virat Kohli', 24936)]\n",
    "l.sort(key=lambda x: x[1])\n",
    "print(l)"
   ]
  },
  {
   "cell_type": "code",
   "execution_count": 2,
   "id": "a931a85b-aecf-4b1a-868d-69c1fc6e2007",
   "metadata": {},
   "outputs": [
    {
     "name": "stdout",
     "output_type": "stream",
     "text": [
      "[1, 4, 9, 16, 25, 36, 49, 64, 81, 100]\n"
     ]
    }
   ],
   "source": [
    "\"\"\"Q2. Write a Python Program to find the squares of all the numbers in the given list of integers using lambda and map functions.\"\"\"\n",
    "l = [1, 2, 3, 4, 5, 6, 7, 8, 9, 10]\n",
    "def sq(x):\n",
    "    return x**2\n",
    "x=list(map(sq,l))\n",
    "print(x)"
   ]
  },
  {
   "cell_type": "code",
   "execution_count": 3,
   "id": "535287e9-12fe-429f-aa02-0ea30fdcaac0",
   "metadata": {},
   "outputs": [
    {
     "name": "stdout",
     "output_type": "stream",
     "text": [
      "('1', '2', '3', '4', '5', '6', '7', '8', '9', '10')\n"
     ]
    }
   ],
   "source": [
    "\"\"\"Q3. Write a python program to convert the given list of integers into a tuple of strings. Use map and lambda functions\"\"\"\n",
    "l1 = [1, 2, 3, 4, 5, 6, 7, 8, 9, 10]\n",
    "l2=tuple(map(lambda x:str(x),l1))\n",
    "print(l2)\n"
   ]
  },
  {
   "cell_type": "code",
   "execution_count": 4,
   "id": "6f080706-4198-4995-a43c-243bf5d936e4",
   "metadata": {},
   "outputs": [
    {
     "name": "stdout",
     "output_type": "stream",
     "text": [
      "15511210043330985984000000\n"
     ]
    }
   ],
   "source": [
    "\"\"\"Q4.  Write a python program using reduce function to compute the product of a list containing numbers from 1 to 25.\"\"\"\n",
    "from functools import reduce#importing reduce function\n",
    "l1 = list(range(1, 26))#creating a list\n",
    "\n",
    "# useing reduce() to compute the product of the numbers(elements) of list\n",
    "result = reduce(lambda x, y: x * y, l1)\n",
    "\n",
    "# printing the resulting product\n",
    "print(result)"
   ]
  },
  {
   "cell_type": "code",
   "execution_count": 5,
   "id": "1305ab9e-62e8-4f63-b839-950e98358b3d",
   "metadata": {},
   "outputs": [
    {
     "name": "stdout",
     "output_type": "stream",
     "text": [
      "[6, 60, 90, 120]\n"
     ]
    }
   ],
   "source": [
    "\"\"\"Q5. Write a python program to filter the numbers in a given list that are divisible by 2 and 3 using the filter function.\"\"\"\n",
    "l1=[2, 3, 6, 9, 27, 60, 90, 120, 55, 46]\n",
    "x=list(filter(lambda x : x%2==0 and x%3==0,l1))\n",
    "print(x)"
   ]
  },
  {
   "cell_type": "code",
   "execution_count": null,
   "id": "687b6811-a8c6-4ed6-abc0-e6f5c2d71a5a",
   "metadata": {},
   "outputs": [],
   "source": [
    "\"\"\"Q6. Write a python program to find palindromes in the given list of strings using lambda and filter function.\"\"\"\n",
    "l1=['python', 'php', 'aba', 'radar', 'level']\n",
    "result = list(filter(lambda x: (x == \"\".join(reversed(x))), l1) )\n",
    "print(result)"
   ]
  }
 ],
 "metadata": {
  "kernelspec": {
   "display_name": "Python 3 (ipykernel)",
   "language": "python",
   "name": "python3"
  },
  "language_info": {
   "codemirror_mode": {
    "name": "ipython",
    "version": 3
   },
   "file_extension": ".py",
   "mimetype": "text/x-python",
   "name": "python",
   "nbconvert_exporter": "python",
   "pygments_lexer": "ipython3",
   "version": "3.10.8"
  }
 },
 "nbformat": 4,
 "nbformat_minor": 5
}
