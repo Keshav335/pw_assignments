{
 "cells": [
  {
   "cell_type": "code",
   "execution_count": null,
   "id": "4f3dfc0a-f450-4eaf-8528-bbee2fa65f0a",
   "metadata": {},
   "outputs": [],
   "source": [
    "Q1 Who developed python programming Language?\n",
    "Ans. Guido van Rossum."
   ]
  },
  {
   "cell_type": "code",
   "execution_count": null,
   "id": "afcfaae6-4346-4cf1-a7f7-647fbc459db1",
   "metadata": {},
   "outputs": [],
   "source": [
    "Q2 Which type of programming does Python support?\n",
    "Ans: Python is a multi-paradigm programming language. it support both Object-oriented programming and structured programming."
   ]
  },
  {
   "cell_type": "code",
   "execution_count": null,
   "id": "e3ae1fc3-c96e-4748-8fb0-87d4ed71ef1b",
   "metadata": {},
   "outputs": [],
   "source": [
    "Q3 Is python case sensitive when dealing with identifiers?\n",
    "Ans: Yes."
   ]
  },
  {
   "cell_type": "code",
   "execution_count": null,
   "id": "175ad1bc-13a7-4277-8fe2-bbd370108822",
   "metadata": {},
   "outputs": [],
   "source": [
    "Q4 What is the correct extension of the Python file?\n",
    "Ans: .py"
   ]
  },
  {
   "cell_type": "code",
   "execution_count": null,
   "id": "77ac2e07-a20b-4ec7-8a46-27b8d4108018",
   "metadata": {},
   "outputs": [],
   "source": [
    "Q5 Is Python code compiled or interpreted?\n",
    "Ans: Interpreted."
   ]
  },
  {
   "cell_type": "code",
   "execution_count": null,
   "id": "fd532838-a2a0-40e2-a12a-c5e75a1bf939",
   "metadata": {},
   "outputs": [],
   "source": [
    "Q6 Name a few blocks of code used to define in Python language?\n",
    "Ans:function,Class,if,else,for loop,while loop."
   ]
  },
  {
   "cell_type": "code",
   "execution_count": null,
   "id": "9f809bf3-5126-4190-b7ef-7033e4685918",
   "metadata": {},
   "outputs": [],
   "source": [
    "Q7 State a character used to give single-line comment in Python?\n",
    "Ans: #"
   ]
  },
  {
   "cell_type": "code",
   "execution_count": null,
   "id": "e64abc69-2474-4e71-915d-774545903706",
   "metadata": {},
   "outputs": [],
   "source": [
    "Q8 Mention functions which can help us to find the version of python that we are currently working on?\n",
    "Ans:1. python_version()"
   ]
  },
  {
   "cell_type": "code",
   "execution_count": null,
   "id": "b1d81621-24c5-4161-863f-5470b1e875c7",
   "metadata": {},
   "outputs": [],
   "source": [
    "Q9 Python supports the creation of anonymous functions at runtime,using a construct called?\n",
    "Ans lambda"
   ]
  },
  {
   "cell_type": "code",
   "execution_count": null,
   "id": "fe3431b5-bb78-47f7-81c2-bbda39b40b38",
   "metadata": {},
   "outputs": [],
   "source": [
    "Q10 What does pip stands for in python?\n",
    "Ans preferred installer program."
   ]
  },
  {
   "cell_type": "code",
   "execution_count": null,
   "id": "cd4d117b-9ba9-4b90-83f1-39cb1f2927fb",
   "metadata": {},
   "outputs": [],
   "source": [
    "Q11 Mention a few built-in functions in python?\n",
    "Ans min(),max(),print(),map(),next(),sorted(),set()."
   ]
  },
  {
   "cell_type": "code",
   "execution_count": null,
   "id": "e0fa2828-33a2-44c6-b56c-c215971cdca1",
   "metadata": {},
   "outputs": [],
   "source": [
    "Q12 What is the maximum possible length of an identifier in Python?\n",
    "Ans An identifier can have a maximum length of 79 characters in Python."
   ]
  },
  {
   "cell_type": "code",
   "execution_count": null,
   "id": "67f5524c-e410-4651-903d-d84df0d128a6",
   "metadata": {},
   "outputs": [],
   "source": [
    "Q13 What are the benefits of using Python?\n",
    "Ans 1.Large community.\n",
    "    2.Less line of code.\n",
    "    3.Lots of libraries.\n",
    "    4.Mostly used for data science purpose."
   ]
  },
  {
   "cell_type": "code",
   "execution_count": null,
   "id": "094f06f2-182c-4081-b333-d289904bb840",
   "metadata": {},
   "outputs": [],
   "source": [
    "Q14 How is memory managed in python?\n",
    "Ans In order to manage memory, Python uses a private heap that houses all of its objects and data structures. The Python memory manager is \n",
    "    responsible for internal administration of this private heap. Different parts of the Python memory manager deal with different aspects of \n",
    "    dynamic storage management, such as sharing, segmentation, preallocation, or caching.At the most fundamental level, a raw memory allocator \n",
    "    works with the operating system's memory management to make sure there is enough space in the private heap to store all Python-related data. \n",
    "    In addition to the raw memory allocator, a number of object-specific allocators work on the same heap and apply various memory management \n",
    "    strategies according to the unique characteristics of each type of object. For instance, the heap manages integer objects differently from \n",
    "    strings and tuples."
   ]
  },
  {
   "cell_type": "code",
   "execution_count": null,
   "id": "9e7db464-b433-41f6-b293-37bb5a57de36",
   "metadata": {},
   "outputs": [],
   "source": [
    "Q15 How to install Python on Windows and set path variables?\n",
    "Ans 1.Go to python officieal website and download the latest version of python for windows.\n",
    "    2.click on the dowonloaded file twice to start, then give permission to make changes when windows promt come.\n",
    "    3.during installation you have to give location where you want to install python.\n",
    "    4.after installaion type path in widows search bar,then click on the edit system environment variable(search result).\n",
    "    5.Now a window will open where you have to select environment variable (button).\n",
    "    6.There on user variables->click new and add the path of python (bin folder) ,then save the changes."
   ]
  },
  {
   "cell_type": "code",
   "execution_count": null,
   "id": "f7cd668c-22c3-465e-9949-17febfb00502",
   "metadata": {},
   "outputs": [],
   "source": [
    "Q16 Is indentaion required in python?\n",
    "Ans Yes,If we do not provide proper indentation python compiler will give eror."
   ]
  }
 ],
 "metadata": {
  "kernelspec": {
   "display_name": "Python 3 (ipykernel)",
   "language": "python",
   "name": "python3"
  },
  "language_info": {
   "codemirror_mode": {
    "name": "ipython",
    "version": 3
   },
   "file_extension": ".py",
   "mimetype": "text/x-python",
   "name": "python",
   "nbconvert_exporter": "python",
   "pygments_lexer": "ipython3",
   "version": "3.10.8"
  }
 },
 "nbformat": 4,
 "nbformat_minor": 5
}
