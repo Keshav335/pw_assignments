{
 "cells": [
  {
   "cell_type": "code",
   "execution_count": null,
   "id": "8c207496-894c-4971-8e3f-39396c4e1678",
   "metadata": {},
   "outputs": [],
   "source": [
    "Q1.  Explain with an example each when to use a for loop and a while loop\n",
    "\n",
    "Ans: A for loop is typically used when you know the number of times you want to execute a code block. \n",
    "This is because a for loop uses an iterable object to loop through, such as a list or a range of numbers.\n",
    "example:\n",
    "metals = ['Gold', 'Silver', 'Bronz']\n",
    "for fruit in fruits:\n",
    "    print(metals)\n",
    "\n",
    "A while loop, on the other hand, is used when you want to keep looping until a certain condition is met. \n",
    "The loop continues until the condition evaluates to False. \n",
    "example:\n",
    "sum = 0\n",
    "i = 1\n",
    "while i <= 10:\n",
    "    sum += i\n",
    "    i += 1\n",
    "print(sum)"
   ]
  },
  {
   "cell_type": "code",
   "execution_count": 3,
   "id": "8b051882-b82a-4ed3-b7c7-87c91115bfc8",
   "metadata": {},
   "outputs": [
    {
     "name": "stdout",
     "output_type": "stream",
     "text": [
      "product of first ten natural numbers:  3628800\n",
      "addition of first ten natural numbers:  55\n",
      "addition of first ten natural numbers:  55\n",
      "product of first ten natural numbers:  3628800\n"
     ]
    }
   ],
   "source": [
    "# Q2.  Write a python program to print the sum and product of the first 10 natural numbers using for and while loop\n",
    "\n",
    "#using for loop\n",
    "n=1\n",
    "p=0\n",
    "for i in range(1,11):\n",
    "    n=n*i\n",
    "    p=p+i\n",
    "print(\"product of first ten natural numbers: \",n)\n",
    "print(\"addition of first ten natural numbers: \",p)\n",
    "#using for loop\n",
    "a=1\n",
    "b=0\n",
    "c=1\n",
    "while(a<=10):\n",
    "    b=b+a\n",
    "    c=c*a\n",
    "    a+=1\n",
    "print(\"addition of first ten natural numbers: \",b)\n",
    "print(\"product of first ten natural numbers: \",c)"
   ]
  },
  {
   "cell_type": "code",
   "execution_count": 4,
   "id": "35df7188-64ac-4fde-ad3f-c3b3062c266b",
   "metadata": {},
   "outputs": [
    {
     "name": "stdin",
     "output_type": "stream",
     "text": [
      "Please Type number of electricity units you consumed in a month:\n",
      " 500\n"
     ]
    },
    {
     "name": "stdout",
     "output_type": "stream",
     "text": [
      "6050.0\n"
     ]
    }
   ],
   "source": [
    "\"\"\"Q3 The per-unit charges in rupees are as follows: For the first 100 units, the user will be charged Rs. 4.5 per unit, for the next 100 units,\n",
    "the user will be charged Rs. 6 per unit, and for the next 100 units, the user will be charged Rs. 10 per unit, After 300 units and above the\n",
    "user will be charged Rs. 20 per unit.You are required to take the units of electricity consumed in a month from the user as input.Your \n",
    "program must pass this test case: when the unit of electricity consumed by the user in a month is 310, the total electricity bill should be \n",
    "2250.\"\"\"\n",
    "unit=int(input(\"Please Type number of electricity units you consumed in a month:\\n\"))\n",
    "bill=0\n",
    "if(unit<=100 and unit>=0):\n",
    "    bill=unit*4.5\n",
    "elif(unit>100 and unit<=200):\n",
    "    bill=(100*4.5 + (unit-100)*6)\n",
    "elif(unit>200 and unit<=300):\n",
    "    bill=(100*4.5 + 100*6 +(unit-200)*10)\n",
    "elif(unit>300):\n",
    "    bill=(100*4.5 + 100*6 + 100*10 + (unit-300)*20)\n",
    "else:\n",
    "    print(\"You povided wrong input\")\n",
    "print(bill)"
   ]
  },
  {
   "cell_type": "code",
   "execution_count": 5,
   "id": "96568c7a-dec5-40c6-a4bb-2b5bd362be71",
   "metadata": {},
   "outputs": [
    {
     "name": "stdout",
     "output_type": "stream",
     "text": [
      "[1, 2, 3, 4, 5, 6, 7, 8, 9, 10, 11, 12, 13, 14, 15, 16, 17, 18, 19, 20, 21, 22, 23, 24, 25, 26, 27, 28, 29, 30, 31, 32, 33, 34, 35, 36, 37, 38, 39, 40, 41, 42, 43, 44, 45, 46, 47, 48, 49, 50, 51, 52, 53, 54, 55, 56, 57, 58, 59, 60, 61, 62, 63, 64, 65, 66, 67, 68, 69, 70, 71, 72, 73, 74, 75, 76, 77, 78, 79, 80, 81, 82, 83, 84, 85, 86, 87, 88, 89, 90, 91, 92, 93, 94, 95, 96, 97, 98, 99, 100]\n",
      "[1, 8, 27, 64, 125, 216, 343, 512, 729, 1000, 1331, 1728, 2197, 2744, 3375, 4096, 4913, 5832, 6859, 8000, 9261, 10648, 12167, 13824, 15625, 17576, 19683, 21952, 24389, 27000, 29791, 32768, 35937, 39304, 42875, 46656, 50653, 54872, 59319, 64000, 68921, 74088, 79507, 85184, 91125, 97336, 103823, 110592, 117649, 125000, 132651, 140608, 148877, 157464, 166375, 175616, 185193, 195112, 205379, 216000, 226981, 238328, 250047, 262144, 274625, 287496, 300763, 314432, 328509, 343000, 357911, 373248, 389017, 405224, 421875, 438976, 456533, 474552, 493039, 512000, 531441, 551368, 571787, 592704, 614125, 636056, 658503, 681472, 704969, 729000, 753571, 778688, 804357, 830584, 857375, 884736, 912673, 941192, 970299, 1000000]\n",
      "[8, 64, 216, 512, 1000, 1728, 2744, 4096, 5832, 8000, 10648, 13824, 17576, 21952, 27000, 32768, 39304, 46656, 54872, 64000, 74088, 85184, 97336, 110592, 125000, 140608, 157464, 175616, 195112, 216000, 238328, 262144, 287496, 314432, 343000, 373248, 405224, 438976, 474552, 512000, 551368, 592704, 636056, 681472, 729000, 778688, 830584, 884736, 941192, 1000000]\n"
     ]
    }
   ],
   "source": [
    "\"\"\"Q4. Create a list of numbers from 1 to 100. Use for loop and while loop to calculate the cube of each number and if the cube of that\n",
    "number is divisible by 4 or 5 then append that number in a list and print that list\"\"\"\n",
    "l1=[]\n",
    "l2=[]\n",
    "l3=[]\n",
    "for i in range(1,101):\n",
    "    l1.append(i)\n",
    "print(l1)\n",
    "for i in l1:\n",
    "    l2.append(i**3)\n",
    "print(l2)\n",
    "for i in l2:\n",
    "    if(i%4==0 or i%5==5):\n",
    "        l3.append(i)\n",
    "print(l3)"
   ]
  },
  {
   "cell_type": "code",
   "execution_count": null,
   "id": "b198e283-2dcb-4c34-a135-8887e7d2d2a7",
   "metadata": {},
   "outputs": [],
   "source": [
    "# Q5.  Write a program to filter count vowels in the below-given string. string = \"I want to become a data scientist\n",
    "def vowels_count(string):\n",
    "    vowels = \"aeiou\"\n",
    "    count = 0\n",
    "    for char in string:\n",
    "        if char in vowels:\n",
    "            count += 1\n",
    "    return count\n",
    "\n",
    "string = \"I want to become a data scientist\"\n",
    "string=string.lower()\n",
    "print(string)\n",
    "vowel_count = vowels_count(string)\n",
    "print(\"Number of vowels:\", vowel_count)"
   ]
  }
 ],
 "metadata": {
  "kernelspec": {
   "display_name": "Python 3 (ipykernel)",
   "language": "python",
   "name": "python3"
  },
  "language_info": {
   "codemirror_mode": {
    "name": "ipython",
    "version": 3
   },
   "file_extension": ".py",
   "mimetype": "text/x-python",
   "name": "python",
   "nbconvert_exporter": "python",
   "pygments_lexer": "ipython3",
   "version": "3.10.8"
  }
 },
 "nbformat": 4,
 "nbformat_minor": 5
}
