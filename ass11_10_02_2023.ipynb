{
 "cells": [
  {
   "cell_type": "code",
   "execution_count": null,
   "id": "73c1888d-7e9e-4f34-a192-293e7a6c1b0c",
   "metadata": {},
   "outputs": [],
   "source": [
    "#Q1. Which function is used to open a file? What are the different modes of opening a file? Explain each mode of file opening.\n",
    "\"\"\"\n",
    "open function is used to open a file in python\n",
    "Different modes of opening a file:\n",
    "1.‘r’ mode|2.‘w’ mode | 3. ‘a’ mode|4. ‘r+’ mode | 5. ‘w+’ mode | 6. ‘a+’ mode\n",
    "‘r’ mode => the file opens in the read mode\n",
    "‘w’ mode => the file opens in write mode\n",
    "‘a’ mode => the file opens in append mode\n",
    "‘r+’ mode => the file opens in the read & write mode\n",
    "‘w+’ mode => the file in the read & write mode & remove existing content\n",
    "‘a+’ mode => the file opens in the read & append mode. It does not remove existing content & If the file doesn’t exist, it creates a new one. \"\"\""
   ]
  },
  {
   "cell_type": "code",
   "execution_count": null,
   "id": "a456f2e7-b3b3-4a7c-a867-be4ba2e798a2",
   "metadata": {},
   "outputs": [],
   "source": [
    "#Q2. Why close() function is used? Why is it important to close a file?\n",
    "\"\"\"\n",
    "close() function is required to close the file.\n",
    "it is importent to close the file after performing operations because:\n",
    "files are limited resources managed by the operating system, making sure files are closed after use will protect against hard-to-debug \n",
    "issues like running out of file handles or experiencing corrupted data\"\"\""
   ]
  },
  {
   "cell_type": "code",
   "execution_count": 2,
   "id": "7762cdcf-26a7-4424-a97e-b808ad2c26a3",
   "metadata": {},
   "outputs": [
    {
     "name": "stdout",
     "output_type": "stream",
     "text": [
      "I want to become a Data Scientist\n"
     ]
    }
   ],
   "source": [
    "#Q3. Write a python program to create a text file. Write ‘I want to become a Data Scientist’ in that file. Then close the file. Open this file and\n",
    "#read the content of the file.  \n",
    "f = open(\"test.txt\" , 'w')\n",
    "f.write(\"I want to become a Data Scientist\")\n",
    "f.close()\n",
    "data = open(\"test.txt\" , 'r')\n",
    "print(data.read())\n",
    "data.close()"
   ]
  },
  {
   "cell_type": "code",
   "execution_count": 3,
   "id": "69e19cba-01c4-4de7-86fe-c56ea3ab7b06",
   "metadata": {},
   "outputs": [
    {
     "name": "stdout",
     "output_type": "stream",
     "text": [
      "I want to become a Data Scientist\n",
      "I want to become a Software Engineer\n",
      "I want to become a MLOPS Engineer\n",
      "=======================================\n",
      "I want to become a Data Scientist\n",
      "\n",
      "I want to become a Software Engineer\n",
      "\n",
      "=======================================\n",
      "['I want to become a Data Scientist\\n', 'I want to become a Software Engineer\\n', 'I want to become a MLOPS Engineer']\n"
     ]
    }
   ],
   "source": [
    "#Q4. Explain the following with python code: read(), readline() and readlines()\n",
    "#Python readline() method will return a line from the file when called\n",
    "#readlines() method will return all the lines in a file in the format of a list where each element is a line in the file\n",
    "#read(): This method reads the entire contents of the file and returns them as a string\n",
    "f = open(\"test1.txt\" , 'w')\n",
    "f.write(\"I want to become a Data Scientist\\nI want to become a Software Engineer\\nI want to become a MLOPS Engineer\")\n",
    "f.close()\n",
    "f=open('test1.txt', 'r')\n",
    "data = f.read()\n",
    "print(data)\n",
    "f.close()\n",
    "print(\"=======================================\")\n",
    "f=open('test1.txt', 'r')\n",
    "line1 = f.readline()\n",
    "line2 = f.readline()\n",
    "print(line1)\n",
    "print(line2)\n",
    "f.close()\n",
    "print(\"=======================================\")\n",
    "with open('test1.txt', 'r') as f:\n",
    "    lines = f.readlines()\n",
    "print(lines)\n",
    "f.close()"
   ]
  },
  {
   "cell_type": "code",
   "execution_count": 4,
   "id": "52615dbc-1bcd-4abd-8261-9e9ffa29a00b",
   "metadata": {},
   "outputs": [
    {
     "name": "stdout",
     "output_type": "stream",
     "text": [
      "['I want to become a Data Scientist\\n', 'I want to become a Software Engineer\\n', 'I want to become a MLOPS Engineer']\n"
     ]
    }
   ],
   "source": [
    "#Q5. Explain why with statement is used with open(). What is the advantage of using with statement and open() together?\n",
    "#The with statement in Python is used in combination with open() to ensure that a file is properly opened and closed.\n",
    "#The with statement takes care of automatically closing the file once the block of code inside the with\n",
    "#statement is finished executing, even if an exception is raised.\n",
    "f = open(\"test2.txt\" , 'w')\n",
    "f.write(\"I want to become a Data Scientist\\nI want to become a Software Engineer\\nI want to become a MLOPS Engineer\")\n",
    "f.close()\n",
    "with open('test2.txt', 'r') as f:\n",
    "    lines = f.readlines()\n",
    "print(lines)\n",
    "f.close()"
   ]
  },
  {
   "cell_type": "code",
   "execution_count": 5,
   "id": "76f133e1-8bac-48c7-8c1a-e575b7d404f0",
   "metadata": {},
   "outputs": [
    {
     "name": "stdin",
     "output_type": "stream",
     "text": [
      "Enter the name of the cars:  BMW\n",
      "Enter the name of the cars:  TATA\n",
      "Enter the name of the cars:  Audi\n"
     ]
    },
    {
     "name": "stdout",
     "output_type": "stream",
     "text": [
      "Data is written into the file.\n"
     ]
    },
    {
     "name": "stdin",
     "output_type": "stream",
     "text": [
      "Enter the name of the cars:  TATA\n",
      "Enter the name of the cars:  Audi\n",
      "Enter the name of the cars:  BMW\n"
     ]
    },
    {
     "name": "stdout",
     "output_type": "stream",
     "text": [
      "Data is written into the file.\n"
     ]
    }
   ],
   "source": [
    "#Q6. Explain the write() and writelines() functions. Give a suitable example\n",
    "#The write() function will write the content in the file without adding any extra characters.\n",
    "#The writelines() function writes the content of a list to a file.\n",
    "file = open(\"Cars1.txt\", \"w\")\n",
    "for i in range(3):\n",
    "    name = input(\"Enter the name of the cars: \")\n",
    "    file.write(name)\n",
    "    file.write(\"\\n\")\n",
    "file.close()\n",
    "print(\"Data is written into the file.\")\n",
    "\n",
    "file1 = open(\"Cars2.txt\", \"w\")\n",
    "lst = []\n",
    "for i in range(3):\n",
    "\tname = input(\"Enter the name of the cars: \")\n",
    "\tlst.append(name + '\\n')\n",
    "\t\n",
    "file1.writelines(lst)\n",
    "file1.close()\n",
    "print(\"Data is written into the file.\")"
   ]
  },
  {
   "cell_type": "code",
   "execution_count": null,
   "id": "1c17a84a-f50c-456e-8b8f-8d1235baa58a",
   "metadata": {},
   "outputs": [],
   "source": []
  }
 ],
 "metadata": {
  "kernelspec": {
   "display_name": "Python 3 (ipykernel)",
   "language": "python",
   "name": "python3"
  },
  "language_info": {
   "codemirror_mode": {
    "name": "ipython",
    "version": 3
   },
   "file_extension": ".py",
   "mimetype": "text/x-python",
   "name": "python",
   "nbconvert_exporter": "python",
   "pygments_lexer": "ipython3",
   "version": "3.10.8"
  }
 },
 "nbformat": 4,
 "nbformat_minor": 5
}
