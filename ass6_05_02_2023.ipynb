{
 "cells": [
  {
   "cell_type": "code",
   "execution_count": null,
   "id": "371d8fa2-d1e7-43b5-a25e-f58eab22b824",
   "metadata": {},
   "outputs": [],
   "source": [
    "\"\"\"Q1. Explain Class and Object with respect to Object-Oriented Programming. Give a suitable example.\"\"\"\n",
    "\"\"\"Ans:class: It is blue print of the object\n",
    "       It is the user defined data type \n",
    "       a class containes methods,variables,or inner class.\n",
    "\n",
    "object:It is the instance of the class.\n",
    "       Memory is only alocated when we create object of class\"\"\""
   ]
  },
  {
   "cell_type": "code",
   "execution_count": null,
   "id": "fab553ac-e0dc-414d-9cba-32178a03d521",
   "metadata": {},
   "outputs": [],
   "source": [
    "\"\"\"Q2. Name the four pillars of OOPs.\"\"\"\n",
    "\"\"\"1.Inheritance\n",
    "2.Abstraction\n",
    "3.Polymorphism\n",
    "4.Encapsulation\"\"\""
   ]
  },
  {
   "cell_type": "code",
   "execution_count": 1,
   "id": "21aaa704-22a5-4cab-99d2-bd351cd7760e",
   "metadata": {},
   "outputs": [
    {
     "name": "stdout",
     "output_type": "stream",
     "text": [
      "10\n"
     ]
    }
   ],
   "source": [
    "\"\"\"Q3. Explain why the __init__() function is used. Give a suitable example\"\"\"\n",
    "\"\"\"The __init__ method lets the class initialize the object's attributes.\n",
    "this is same like constructor of C++.\"\"\"\n",
    "class Standerd:  \n",
    "    def __init__ (self,number):  \n",
    "        self. number = number  \n",
    "    def function (self):  \n",
    "        print (self.number)  \n",
    "my = Standerd (10)  \n",
    "my. function ()  "
   ]
  },
  {
   "cell_type": "code",
   "execution_count": null,
   "id": "ad6c62d1-bf7e-4402-a85d-30de31dd4aae",
   "metadata": {},
   "outputs": [],
   "source": [
    "\"\"\"Q4. Why self is used in OOPs?\"\"\"\n",
    "\"\"\"SELF represents the instance of class. This keyword allows to access members of a defined class in Python.\n",
    "The self parameter doesn’t have to be named “self,” as you can call it by any other name.\"\"\""
   ]
  },
  {
   "cell_type": "code",
   "execution_count": 3,
   "id": "4028ffc8-126a-48cf-ba38-53f3a040ef07",
   "metadata": {},
   "outputs": [
    {
     "name": "stdout",
     "output_type": "stream",
     "text": [
      "parent class.\n",
      "child class.\n"
     ]
    }
   ],
   "source": [
    "\"\"\"Q5. What is inheritance? Give an example for each type of inheritance.\"\"\"\n",
    "\"\"\"Inheritance is the feature of oops that helps in inhariting the property of one class in another class.\n",
    "in this the class which is inherited is called base,parent or super class.The class which inherits the property is called sub,child class.\n",
    "Types of Inheritance in python.\n",
    "1.Single Inheritance: in this a class inherit the property of only one class\"\"\"\n",
    "class Parent:# Base class\n",
    "    def f1(self):\n",
    "        print(\"parent class.\")\n",
    " \n",
    "class Child(Parent):# Derived class\n",
    "    def f2(self):\n",
    "        print(\"child class.\")\n",
    " \n",
    "object = Child()\n",
    "object.f1()\n",
    "object.f2()"
   ]
  },
  {
   "cell_type": "code",
   "execution_count": 4,
   "id": "6e6ac7a3-c962-42bc-8d03-c7f92b186697",
   "metadata": {},
   "outputs": [
    {
     "name": "stdout",
     "output_type": "stream",
     "text": [
      "King: Ace\n",
      "Jack: Hearts\n"
     ]
    }
   ],
   "source": [
    "\"\"\"2. Multiple Inheritance: in this a class inherits the property of more then one base class.\"\"\"\n",
    "class King:#Base class 1\n",
    "    king = \"Ace\"\n",
    " \n",
    "    def mother(self):\n",
    "        print(self.king)\n",
    " \n",
    "class Jack:# Base class2\n",
    "    jack = \"Hearts\"\n",
    " \n",
    "    def father(self):\n",
    "        print(self.jack)\n",
    " \n",
    "class Quen(King, Jack):# Derived class\n",
    "    def quen(self):\n",
    "        print(\"King:\", self.king)\n",
    "        print(\"Jack:\", self.jack)\n",
    " \n",
    "s1 = Quen()\n",
    "s1.quen() "
   ]
  },
  {
   "cell_type": "code",
   "execution_count": 5,
   "id": "31ce09d9-e752-4226-91e7-c69004417c49",
   "metadata": {},
   "outputs": [
    {
     "name": "stdout",
     "output_type": "stream",
     "text": [
      "Grandfather name : Kamleh\n",
      "Father name : Ramnivas\n",
      "Son name : Roy\n"
     ]
    }
   ],
   "source": [
    "\"\"\"3.Multilevel Inheritance :in this a class inherits property of another class which is also inheriting the property of another class.\"\"\"\n",
    "class Gfather:\n",
    " \n",
    "    def __init__(self, grandfathername):\n",
    "        self.grandfathername = grandfathername\n",
    "\n",
    "class Father(Gfather):\n",
    "    def __init__(self, fathername, grandfathername):\n",
    "        self.fathername = fathername\n",
    "        Gfather.__init__(self, grandfathername)\n",
    "\n",
    "class Son(Father):\n",
    "    def __init__(self, sonname, fathername, grandfathername):\n",
    "        self.sonname = sonname\n",
    "        Father.__init__(self, fathername, grandfathername)\n",
    "    def print_name(self):\n",
    "        print('Grandfather name :', self.grandfathername)\n",
    "        print(\"Father name :\", self.fathername)\n",
    "        print(\"Son name :\", self.sonname)\n",
    " \n",
    "s1 = Son('Roy', 'Ramnivas', 'Kamleh')\n",
    "s1.print_name()"
   ]
  },
  {
   "cell_type": "code",
   "execution_count": 6,
   "id": "736c1305-59f9-4593-a534-b48013a49558",
   "metadata": {},
   "outputs": [
    {
     "name": "stdout",
     "output_type": "stream",
     "text": [
      "This function is in parent class.\n",
      "This function is in child 1.\n",
      "This function is in parent class.\n",
      "This function is in child 2.\n"
     ]
    }
   ],
   "source": [
    "\"\"\"4.Hierarchical Inheritance:when more then one classes inherit the property of single class(forms tree like structure).\"\"\"\n",
    "class P:\n",
    "    def f1(self):\n",
    "        print(\"This function is in parent class.\")\n",
    "class C1(P):\n",
    "    def f2(self):\n",
    "        print(\"This function is in child 1.\")\n",
    "class C2(P):\n",
    "    def f3(self):\n",
    "        print(\"This function is in child 2.\")\n",
    "obj1 = C1()\n",
    "obj2 = C2()\n",
    "obj1.f1()\n",
    "obj1.f2()\n",
    "obj2.f1()\n",
    "obj2.f3()"
   ]
  },
  {
   "cell_type": "code",
   "execution_count": 8,
   "id": "be8e63b4-060d-4ed2-9494-e3abfc5b4d55",
   "metadata": {},
   "outputs": [
    {
     "name": "stdout",
     "output_type": "stream",
     "text": [
      "This function is in friends.\n",
      "This function is in f1. \n"
     ]
    }
   ],
   "source": [
    "\"\"\"5.Hybrid Inheritance:When more then one type of inheritance is implemented.\"\"\"\n",
    "class friends:\n",
    "    def func1(self):\n",
    "        print(\"This function is in friends.\")\n",
    "\n",
    "class f1(friends):\n",
    "    def func2(self):\n",
    "        print(\"This function is in f1. \")\n",
    " \n",
    "class f2(friends):\n",
    "    def func3(self):\n",
    "        print(\"This function is in f2.\")\n",
    " \n",
    "class Student3(f1, friends):\n",
    "    def func4(self):\n",
    "        print(\"This function is in student 3.\")\n",
    " \n",
    "object = Student3()\n",
    "object.func1()\n",
    "object.func2()"
   ]
  },
  {
   "cell_type": "code",
   "execution_count": null,
   "id": "406a73d1-b9f7-411f-8833-d64e0a183cdb",
   "metadata": {},
   "outputs": [],
   "source": []
  }
 ],
 "metadata": {
  "kernelspec": {
   "display_name": "Python 3 (ipykernel)",
   "language": "python",
   "name": "python3"
  },
  "language_info": {
   "codemirror_mode": {
    "name": "ipython",
    "version": 3
   },
   "file_extension": ".py",
   "mimetype": "text/x-python",
   "name": "python",
   "nbconvert_exporter": "python",
   "pygments_lexer": "ipython3",
   "version": "3.10.8"
  }
 },
 "nbformat": 4,
 "nbformat_minor": 5
}
