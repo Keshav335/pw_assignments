{
 "cells": [
  {
   "cell_type": "code",
   "execution_count": 1,
   "id": "80d34d67-786e-473b-a89c-19b8625d6589",
   "metadata": {},
   "outputs": [
    {
     "name": "stdin",
     "output_type": "stream",
     "text": [
      "Give percentage of marks you recieved:  92\n"
     ]
    },
    {
     "name": "stdout",
     "output_type": "stream",
     "text": [
      "You Got A grade\n"
     ]
    }
   ],
   "source": [
    "# Q1 WAP to accept percentage and provide grade\n",
    "per=float(input(\"Give percentage of marks you recieved: \"))\n",
    "if per>90.0:\n",
    "    print(\"You Got A grade\")\n",
    "elif per>80.0 and per<=90:\n",
    "    print(\"You Got B grade\")\n",
    "elif per>60.0 and per<=80:\n",
    "    print(\"You Got C grade\")  \n",
    "elif per>=40 and per<=60:\n",
    "    print(\"You Got D grade\") \n",
    "elif per<40:\n",
    "    print(\"You Failed The exam\") \n",
    "else:\n",
    "    print(\"give proper input\") \n"
   ]
  },
  {
   "cell_type": "code",
   "execution_count": 2,
   "id": "964c3d6c-5d94-46b1-a174-fa3e6be93525",
   "metadata": {},
   "outputs": [
    {
     "name": "stdin",
     "output_type": "stream",
     "text": [
      "Please Write the coast price of Your Bike 60000\n"
     ]
    },
    {
     "name": "stdout",
     "output_type": "stream",
     "text": [
      "The Road Tax of your bike is : 6000.0\n"
     ]
    }
   ],
   "source": [
    "# Q2 WAP to accept cp and display road tax\n",
    "cp=float(input(\"Please Write the coast price of Your Bike\"))\n",
    "roadtax=0.0\n",
    "if cp>100000.0:\n",
    "    roadtax=(cp*15)/100\n",
    "    print(\"The Road Tax of your bike is :\",roadtax)\n",
    "elif cp>50000.0 and cp<=100000.0:\n",
    "    roadtax=(cp*10)/100\n",
    "    print(\"The Road Tax of your bike is :\",roadtax)\n",
    "elif cp<=50000.0 and cp>0:\n",
    "    roadtax=(cp*5)/100\n",
    "    print(\"The Road Tax of your bike is :\",roadtax)\n",
    "else:\n",
    "    print(\"You Provided Wrong value of cost price\")    "
   ]
  },
  {
   "cell_type": "code",
   "execution_count": 3,
   "id": "3655250e-9dea-466f-8c1c-f2cd83fc4e64",
   "metadata": {},
   "outputs": [
    {
     "name": "stdin",
     "output_type": "stream",
     "text": [
      "Type:\n",
      "1 for Delhi\n",
      "2 for Agra\n",
      "3 for Jaipur:\n",
      " 3\n"
     ]
    },
    {
     "name": "stdout",
     "output_type": "stream",
     "text": [
      "Please visit Jal Mahal\n"
     ]
    }
   ],
   "source": [
    "# Q3 WAP to accept city and display monuments of that city\n",
    "city=int(input(\"Type:\\n1 for Delhi\\n2 for Agra\\n3 for Jaipur:\\n\"))\n",
    "if city==1:\n",
    "    print(\"Please visit Red Fort\")\n",
    "elif city==2:\n",
    "    print(\"Please visit Taj Mahal\")\n",
    "elif city==3:\n",
    "    print(\"Please visit Jal Mahal\")\n",
    "else:\n",
    "    print(\"You Provided wrong input\")"
   ]
  },
  {
   "cell_type": "code",
   "execution_count": 4,
   "id": "02f17e80-2400-4d84-b3cc-2e5f87336522",
   "metadata": {},
   "outputs": [
    {
     "name": "stdin",
     "output_type": "stream",
     "text": [
      "Give a number 99\n"
     ]
    },
    {
     "name": "stdout",
     "output_type": "stream",
     "text": [
      "Provided number can be devided by 3 at  3 times before it become less than or equal to 10\n"
     ]
    }
   ],
   "source": [
    "# Q4 WAP to check how many time a given number can be divided before it become less then 10\n",
    "count = 0\n",
    "n=int(input(\"Give a number\"))\n",
    "while n > 10:\n",
    "    n = n/3\n",
    "    count +=1\n",
    "print(\"Provided number can be devided by 3 at \",count,\"times before it become less than or equal to 10\")\n"
   ]
  },
  {
   "cell_type": "markdown",
   "id": "96d1be8b-a13e-4bda-a2b6-ceea665215e9",
   "metadata": {},
   "source": [
    "# Q5.Why and when to use while loop in python give a detailed decription with example?\n",
    "Ans we use while loop when we are not sure about number of times we want to run the loop.\n",
    "n=int(input(\"give a number for loop limit\")\n",
    "while i <= n:\n",
    "    print(i)\n",
    "    i = i + 1"
   ]
  },
  {
   "cell_type": "code",
   "execution_count": 5,
   "id": "42f76cb7-af01-414f-9b34-fb1003c783ce",
   "metadata": {},
   "outputs": [
    {
     "name": "stdout",
     "output_type": "stream",
     "text": [
      "* * * * * \n",
      "* * * * \n",
      "* * * \n",
      "* * \n",
      "* \n",
      "\n",
      "* \n",
      "* * \n",
      "* * * \n",
      "* * * * \n",
      "* * * * * \n"
     ]
    }
   ],
   "source": [
    "# Q6 Use nested while loop to print 3 diffrent pattern\n",
    "n=0\n",
    "i=5\n",
    "while i >= n :\n",
    "    j = 0\n",
    "    while j < i:\n",
    "        print(\"*\", end = \" \")\n",
    "        j += 1\n",
    "    print()\n",
    "    i -= 1\n",
    "#--------------------------------\n",
    "n=5\n",
    "i=0\n",
    "while i<n:\n",
    "    j=0\n",
    "    while j<=i:\n",
    "        print(\"*\",end=\" \")\n",
    "        j+=1\n",
    "    print()\n",
    "    i+=1"
   ]
  },
  {
   "cell_type": "code",
   "execution_count": 6,
   "id": "ee278333-84a6-4bf6-a55a-c748d951818b",
   "metadata": {},
   "outputs": [
    {
     "name": "stdout",
     "output_type": "stream",
     "text": [
      "10\n",
      "9\n",
      "8\n",
      "7\n",
      "6\n",
      "5\n",
      "4\n",
      "3\n",
      "2\n",
      "1\n"
     ]
    }
   ],
   "source": [
    "# Q7 Reverse a while loop to display the numbers from 10 to 1\n",
    "n=10\n",
    "while n>0:\n",
    "    print(n)\n",
    "    n -= 1"
   ]
  },
  {
   "cell_type": "code",
   "execution_count": null,
   "id": "aec7517b-e7a5-49cf-aaee-12de27f4495e",
   "metadata": {},
   "outputs": [],
   "source": []
  }
 ],
 "metadata": {
  "kernelspec": {
   "display_name": "Python 3 (ipykernel)",
   "language": "python",
   "name": "python3"
  },
  "language_info": {
   "codemirror_mode": {
    "name": "ipython",
    "version": 3
   },
   "file_extension": ".py",
   "mimetype": "text/x-python",
   "name": "python",
   "nbconvert_exporter": "python",
   "pygments_lexer": "ipython3",
   "version": "3.10.8"
  }
 },
 "nbformat": 4,
 "nbformat_minor": 5
}
