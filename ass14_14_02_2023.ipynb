{
 "cells": [
  {
   "cell_type": "code",
   "execution_count": null,
   "id": "da2a9a19-f0f6-416b-ae52-841550cbf5f3",
   "metadata": {},
   "outputs": [],
   "source": [
    "#Q1 What is multithreading in python? Why is it used?Name the module used to handle threads in pyhton.\n",
    "#Ans *It is a process of executing multiple threads(a thread is smallest unit of a process) by rapidly switching the control of the CPU \n",
    "#between threads (called context switching).\n",
    "#*We use multithreading for efficiently utlizing resources because threads share data space and memory.Multithreading in Python allows the \n",
    "#concurrent and parallel occurrence of various tasks. It causes a reduction in time consumption or response time, thereby increasing the\n",
    "#performance.\n",
    "#*module to handle threads in python=\"threading\"\n",
    "#This module constructs higher-level threading interfaces on top of the lower level _thread module.\n",
    "#examples of functions provided by this module:1.settrace(func),2.gettrace(),3.setprofile(func),4.getprofile(),5.get_ident(),6.enumerate()etc.\n",
    "\n"
   ]
  },
  {
   "cell_type": "code",
   "execution_count": 1,
   "id": "7c39ae54-415a-4d2b-8cc4-f9d5ee12d056",
   "metadata": {},
   "outputs": [
    {
     "name": "stdout",
     "output_type": "stream",
     "text": [
      "myThread started\n",
      "Number of active threadlist after starting myThread:  9\n",
      "myThread finished\n",
      "Number of active threadlist after myThread has finished:  8\n",
      "Current Thread: <Thread(Thread-6 (my_fun), started 140232385078848)>\n",
      "Main Thread: <_MainThread(MainThread, started 140232733943616)>\n",
      "Active Thread: <_MainThread(MainThread, started 140232733943616)>\n",
      "Active Thread: <Thread(IOPub, started daemon 140232663414336)>\n",
      "Active Thread: <Heartbeat(Heartbeat, started daemon 140232655021632)>\n",
      "Active Thread: <Thread(Thread-3 (_watch_pipe_fd), started daemon 140232427042368)>\n",
      "Active Thread: <Thread(Thread-4 (_watch_pipe_fd), started daemon 140232418649664)>\n",
      "Active Thread: <ControlThread(Control, started daemon 140232410256960)>\n",
      "Active Thread: <HistorySavingThread(IPythonHistorySavingThread, started 140232401864256)>\n",
      "Active Thread: <ParentPollerUnix(Thread-2, started daemon 140232393471552)>\n",
      "Active Thread: <Thread(Thread-7 (my_function), started 140232385078848)>\n",
      "Active Thread: <Thread(Thread-8 (my_function), started 140232376686144)>\n",
      "Active Thread: <Thread(Thread-9 (my_function), started 140231823062592)>\n"
     ]
    }
   ],
   "source": [
    "#Q2Why threading module used? Write the use of the following functions:1.activeCount(),2.currentThread(),3.enumerate()\n",
    "#threading module is used to implement multithreading in python. it provides various functions to work with threadlist.\n",
    "#It is the high-level implementation of multithreading in Python.We apply it for managing multithreaded applications.\n",
    "#1.active_Count():Return the number of Thread objects currently alive. The returned count is equal to the length of the list returned by \n",
    "#enumerate().The function activeCount is a deprecated alias for this function.\n",
    "import threading\n",
    "import time\n",
    "def myThread():\n",
    "    print(\"myThread started\")\n",
    "    time.sleep(5)\n",
    "    print(\"myThread finished\")\n",
    "t = threading.Thread(target=myThread)\n",
    "t.start()\n",
    "print(\"Number of active threadlist after starting myThread: \", threading.active_count())\n",
    "t.join()\n",
    "print(\"Number of active threadlist after myThread has finished: \", threading.active_count())\n",
    "\n",
    "\n",
    "#2.current_Thread():This function Return's the current Thread object, corresponding to the caller’s thread of control. If the caller’s \n",
    "#thread of  control was not created through the threading module, a dummy thread object with limited functionality is returned.\n",
    "#in another words This method can be called from any thread context (i.e., from any thread) and will return the Thread object associated\n",
    "# with the thread that called it.\n",
    "def my_fun():\n",
    "    c_t = threading.current_thread()\n",
    "    print(\"Current Thread:\", c_t)\n",
    "# create and start a new thread\n",
    "thread = threading.Thread(target=my_fun)\n",
    "thread.start()\n",
    "# get a reference to the current thread and print its name\n",
    "c_t = threading.current_thread()\n",
    "print(\"Main Thread:\", c_t)\n",
    "\n",
    "\n",
    "#3.enumerate():In Python's threading module, enumerate() is a method that returns a list of all active Thread objects in the current process.\n",
    "#The enumerate() method can be called from any thread context (i.e., from any thread) and will return a list of Thread objects representing all \n",
    "#currently active threadlist.\n",
    "def my_function():\n",
    "    time.sleep(1)\n",
    "threadlist = []\n",
    "for i in range(3):\n",
    "    thread = threading.Thread(target=my_function)\n",
    "    thread.start()\n",
    "    threadlist.append(thread)\n",
    "active_threadlist = threading.enumerate()\n",
    "for thread in active_threadlist:\n",
    "    print(\"Active Thread:\", thread)"
   ]
  },
  {
   "cell_type": "code",
   "execution_count": 2,
   "id": "a051cd09-2b00-470e-b84b-8f95ebf28b81",
   "metadata": {},
   "outputs": [
    {
     "name": "stdout",
     "output_type": "stream",
     "text": [
      "This is custom run!\n",
      "Thread 2: 2\n",
      "Main: Waiting for thread to terminate...\n",
      "All done in the new thread\n",
      "Main: Continuing on\n",
      "Thread 1: 1\n"
     ]
    }
   ],
   "source": [
    "#Q3 Explain the following functions:1.run(),2.start(),3.join(),4.isAlive()\n",
    "#run():This method executes any target function belonging to a given thread object that is now active.It normally executes in the background \n",
    "#after the start() method is invoked.Choosing whether or not to override the .run() method is a matter of preference. example:\n",
    "import threading\n",
    "class NewT(threading.Thread):\n",
    "  def run(self):\n",
    "    print(\"This is custom run!\")\n",
    "custom_thread = NewT()\n",
    "custom_thread.start()\n",
    "#start():This is an inbuilt method of the Thread class of the threading module in Python. It is used to \n",
    "# start a thread's activity. This method calls the run() method internally which then executes the target method.\n",
    "# This method must be called at most one time for one thread.example:\n",
    "import time\n",
    "def th_1(i):\n",
    "    time.sleep(5)\n",
    "    print('Thread 1:', i)\n",
    "def th_2(i):\n",
    "    print('Thread 2:', i)\n",
    "t1 = threading.Thread(target=th_1, args=(1,))\n",
    "t2 = threading.Thread(target=th_2, args=(2,))\n",
    "t1.start()\n",
    "t2.start()\n",
    "#join():This method provides a way for one thread to block until another thread has finished.\n",
    "from time import sleep\n",
    "from threading import Thread\n",
    "def task():\n",
    "    sleep(1)\n",
    "    print('All done in the new thread')\n",
    "thread = Thread(target=task)\n",
    "thread.start()\n",
    "print('Main: Waiting for thread to terminate...')\n",
    "thread.join()\n",
    "print('Main: Continuing on')\n"
   ]
  },
  {
   "cell_type": "code",
   "execution_count": 3,
   "id": "443d368b-807f-46ee-8598-278eeb48d8c2",
   "metadata": {},
   "outputs": [
    {
     "name": "stdout",
     "output_type": "stream",
     "text": [
      "List of Squares:\n",
      "1\n",
      "4\n",
      "9\n",
      "16\n",
      "List of Cubes:\n",
      "1\n",
      "8\n",
      "27\n",
      "64\n"
     ]
    }
   ],
   "source": [
    "#Q4 Write a python program to create two threads.Thread one must print the list of squares and thread two must print the list of cubes.\n",
    "import threading\n",
    "def sqr():# Function to print list of squares\n",
    "    squares = [x**2 for x in range(1, 5)]\n",
    "    print(\"List of Squares:\")\n",
    "    for square in squares:\n",
    "        print(square)\n",
    "def cube():# Function to print list of cubes\n",
    "    cubes = [x**3 for x in range(1, 5)]\n",
    "    print(\"List of Cubes:\")\n",
    "    for cube in cubes:\n",
    "        print(cube)\n",
    "t1 = threading.Thread(target=sqr)\n",
    "t2 = threading.Thread(target=cube)\n",
    "t1.start()\n",
    "t2.start()\n",
    "t1.join()\n",
    "t2.join()"
   ]
  },
  {
   "cell_type": "code",
   "execution_count": null,
   "id": "39db1dc5-fcf5-4a7f-9fa4-2be9e3297267",
   "metadata": {},
   "outputs": [],
   "source": [
    "#Q5 State advantages and disadvantages of multithreading\n",
    "#disadvantages\n",
    "#Complexity: Multithreading can add complexity to a program, as it introduces the potential for race conditions and other synchronization \n",
    "#issues. Debugging and testing multithreaded programs can be more difficult than single-threaded programs.\n",
    "\n",
    "#Overhead: Creating and managing threads has some overhead, so there may not be a significant performance improvement for small tasks or\n",
    "#programs.\n",
    "\n",
    "#Resource contention: When multiple threads try to access the same resource simultaneously, it can lead to contention\n",
    "#and synchronization issues, which can slow down the program or cause it to deadlock.\n",
    "\n",
    "#Advantages:\n",
    "#Improved performance: Multithreading can improve the performance of a program by allowing it to utilize multiple CPUs or CPU cores. \n",
    "#This can result in faster execution times.\n",
    "\n",
    "#Responsiveness: Multithreading can make programs more responsive by allowing them to perform tasks in the background\n",
    "#while still accepting user input or other events.\n",
    "\n",
    "#Resource sharing: Threads can share resources such as memory, files, and network connections, making it easier to \n",
    "#develop complex applications."
   ]
  },
  {
   "cell_type": "code",
   "execution_count": null,
   "id": "4c9fc17f-50a3-4cf7-8c4d-90fc7cfb009b",
   "metadata": {},
   "outputs": [],
   "source": [
    "#Q6 Explain deadlocks and race conditions.\n",
    "#Deadlocks:\n",
    "#It occurs when two or more threads are blocked indefinitely, waiting for each other to release resources. \n",
    "#In a deadlock situation the program becomes stuck. A deadlock can occur in \n",
    "#Python when two or more threads hold resources that the other threads need, resulting in a circular wait.\n",
    "\n",
    "#Race conditions:\n",
    "#A race condition occurs when two or more threads access a shared resource simultaneously, and the outcome depends\n",
    "#on the timing of the thread execution. The result of a race condition can be unpredictable and can lead to \n",
    "#incorrect behavior or data corruption."
   ]
  }
 ],
 "metadata": {
  "kernelspec": {
   "display_name": "Python 3 (ipykernel)",
   "language": "python",
   "name": "python3"
  },
  "language_info": {
   "codemirror_mode": {
    "name": "ipython",
    "version": 3
   },
   "file_extension": ".py",
   "mimetype": "text/x-python",
   "name": "python",
   "nbconvert_exporter": "python",
   "pygments_lexer": "ipython3",
   "version": "3.10.8"
  }
 },
 "nbformat": 4,
 "nbformat_minor": 5
}
