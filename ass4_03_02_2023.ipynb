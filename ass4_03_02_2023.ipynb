{
 "cells": [
  {
   "cell_type": "code",
   "execution_count": 1,
   "id": "8b8ee0ed-f0bd-4119-92fb-be34b6045931",
   "metadata": {},
   "outputs": [
    {
     "name": "stdout",
     "output_type": "stream",
     "text": [
      "[1, 3, 5, 7, 9, 11, 13, 15, 17, 19, 21, 23, 25]\n"
     ]
    }
   ],
   "source": [
    "\"\"\"Q1. Which keyword is used to create a function? Create a function to return a list of odd numbers in the \n",
    "range of 1 to 25\"\"\"\n",
    "def return_odd():\n",
    "    l1=[]\n",
    "    for i in range(1,26):\n",
    "        if(i%2!=0):\n",
    "            l1.append(i)\n",
    "    return l1\n",
    "\n",
    "x=return_odd()\n",
    "print(x)"
   ]
  },
  {
   "cell_type": "code",
   "execution_count": 2,
   "id": "8ca964c0-b26a-40c5-a4ae-50a63a631d4b",
   "metadata": {},
   "outputs": [
    {
     "name": "stdout",
     "output_type": "stream",
     "text": [
      "Hi\n",
      "Welcome\n",
      "to\n",
      "India\n",
      "Ram == India\n",
      "Xi == China\n",
      "Max == America\n"
     ]
    }
   ],
   "source": [
    "\"\"\"Q2. Why *args and **kwargs is used in some functions? Create a function each for *args and **kwargs \n",
    "to demonstrate their use.\"\"\"\n",
    "\"\"\"\n",
    "ans:\n",
    "We use  *args OR **kwargs – as our function’s argument when we have doubts about the number of arguments we should pass in a function.\n",
    "*args in function definitions in python is used to pass a variable number of arguments to a function. \n",
    "**kwargs in function definitions in python is used to pass a keyworded, variable-length argument list.\"\"\"\n",
    "\n",
    "#*args example:\n",
    "\n",
    "def fun1(*argv):\n",
    "    for arg in argv:\n",
    "        print(arg)\n",
    "fun1('Hi', 'Welcome', 'to', 'India')\n",
    "\n",
    "\n",
    "#**kwargs example:\n",
    "def fun2(**kwargs):\n",
    "    for key, value in kwargs.items():\n",
    "        print(\"%s == %s\" % (key, value))\n",
    "fun2(Ram='India', Xi='China', Max='America')"
   ]
  },
  {
   "cell_type": "code",
   "execution_count": 3,
   "id": "62e2ecd8-1650-4674-ba90-7b1ba8543828",
   "metadata": {},
   "outputs": [
    {
     "name": "stdout",
     "output_type": "stream",
     "text": [
      "2\n",
      "4\n",
      "6\n",
      "8\n",
      "10\n"
     ]
    }
   ],
   "source": [
    "\"\"\"Q3.  What is an iterator in python? Name the method used to initialise the iterator object and the method \n",
    "used for iteration. Use these methods to print the first five elements of the given list [2, 4, 6, 8, 10, 12, 14, \n",
    "16, 18, 20].\"\"\"\n",
    "\"\"\"Ans:\n",
    "Iterator:\n",
    "An iterator is an object that can be iterated upon, meaning that you can traverse through all the values. \n",
    "it implements the iterator protocol, which consist of the methods __iter__() and __next__() .\n",
    "\n",
    "method use=The iterator object is initialized using the iter() method. It uses the next() method for iteration.\"\"\"\n",
    "l = [2, 4, 6, 8, 10, 12, 14, 16, 18, 20]\n",
    "b = iter(l)\n",
    "i=0\n",
    "while i<5:\n",
    "    print(next(b))\n",
    "    i+=1\n"
   ]
  },
  {
   "cell_type": "code",
   "execution_count": 4,
   "id": "92dadc5e-ec71-4000-86ab-5cdedc639a31",
   "metadata": {},
   "outputs": [
    {
     "name": "stdout",
     "output_type": "stream",
     "text": [
      "1\n",
      "2\n",
      "3\n",
      "4\n",
      "5\n",
      "6\n",
      "7\n"
     ]
    }
   ],
   "source": [
    "\"\"\"Q4.  What is a generator function in python? Why yield keyword is used? Give an example of a generator function.\"\"\"\n",
    "\"\"\"Ans:\n",
    "Genrator function returns an iterator that produces a sequence of values when iterated over.We use yield statement to give output one by one not in \n",
    "bulk (this helps in efficeant use of memory),the yield keyword will turn any expression that is given with it into a generator object and return it to\n",
    "the caller.\"\"\"\n",
    "def count_test(n):#genrator function\n",
    "    count = 1\n",
    "    while count < n:\n",
    "        yield count\n",
    "        count = count +1\n",
    "\n",
    "c = count_test(8)\n",
    "for i in c:\n",
    "    print(i)\n"
   ]
  },
  {
   "cell_type": "code",
   "execution_count": 5,
   "id": "77a465eb-4306-4be3-967f-b59fe47d85fa",
   "metadata": {},
   "outputs": [
    {
     "name": "stdout",
     "output_type": "stream",
     "text": [
      "2\n",
      "3\n",
      "5\n",
      "7\n",
      "11\n",
      "13\n",
      "17\n",
      "19\n",
      "23\n",
      "29\n",
      "31\n",
      "37\n",
      "41\n",
      "43\n",
      "47\n",
      "53\n",
      "59\n",
      "61\n",
      "67\n",
      "71\n"
     ]
    }
   ],
   "source": [
    "\"\"\"Q5. Create a generator function for prime numbers less than 1000. Use the next() method to print the first 20 prime numbers.\n",
    "Ans:\"\"\"\n",
    "def prime():\n",
    "    # First prime number = 2\n",
    "    yield 2\n",
    "    # Starting loop from 3\n",
    "    n = 3\n",
    "    while n < 1000:\n",
    "        # Check if n is prime\n",
    "        for i in range(2, int(n**0.5) + 1):\n",
    "            if n % i == 0:\n",
    "                break\n",
    "        else:\n",
    "            # for  prime\n",
    "            yield n\n",
    "        n += 2\n",
    "\n",
    "p = prime()\n",
    "for i in range(20):\n",
    "    print(next(p))"
   ]
  },
  {
   "cell_type": "code",
   "execution_count": 6,
   "id": "ff15d863-f779-4329-af9d-a4780c643f5a",
   "metadata": {},
   "outputs": [
    {
     "name": "stdout",
     "output_type": "stream",
     "text": [
      "0\n",
      "1\n",
      "1\n",
      "2\n",
      "3\n",
      "5\n",
      "8\n",
      "13\n",
      "21\n",
      "34\n"
     ]
    }
   ],
   "source": [
    "\"\"\"Q6. Write a python program to print the first 10 Fibonacci numbers using a while loop.\"\"\"\n",
    "a=0\n",
    "b=1\n",
    "i=1\n",
    "print(a)\n",
    "print(b)\n",
    "while i<9:\n",
    "    c=a+b\n",
    "    a=b\n",
    "    b=c\n",
    "    print(c)\n",
    "    i+=1"
   ]
  },
  {
   "cell_type": "code",
   "execution_count": 7,
   "id": "dc9eb8b6-acde-444e-b58d-83ea851ce5a3",
   "metadata": {},
   "outputs": [
    {
     "data": {
      "text/plain": [
       "['p', 'w', 's', 'k', 'i', 'l', 'l', 's']"
      ]
     },
     "execution_count": 7,
     "metadata": {},
     "output_type": "execute_result"
    }
   ],
   "source": [
    "\"\"\"Q7. Write a List Comprehension to iterate through the given string: ‘pwskills’.Expected output: ['p', 'w', 's', 'k', 'i', 'l', 'l', 's'] \"\"\"\n",
    "# Empty list\n",
    "l = []\n",
    "for character in 'pwskills':\n",
    "    l.append(character)\n",
    "l"
   ]
  },
  {
   "cell_type": "code",
   "execution_count": 8,
   "id": "bb0a7eab-4b1e-45e7-bc91-18447f42e1aa",
   "metadata": {},
   "outputs": [
    {
     "name": "stdin",
     "output_type": "stream",
     "text": [
      "Enter a number:  141\n"
     ]
    },
    {
     "name": "stdout",
     "output_type": "stream",
     "text": [
      "141 is a palindrome number\n"
     ]
    }
   ],
   "source": [
    "\"\"\"Q8. Write a python program to check whether a given number is Palindrome or not using a while loop.\"\"\"\n",
    "num = int(input(\"Enter a number: \"))\n",
    "original= num\n",
    "reverse = 0\n",
    "while num > 0:\n",
    "   \n",
    "    digit = num % 10\n",
    "    \n",
    "    reverse = (reverse * 10) + digit\n",
    "    \n",
    "    num = num // 10\n",
    "if original == reverse:\n",
    "    print(original, \"is a palindrome number\")\n",
    "else:\n",
    "    print(original, \"is not a palindrome number\")"
   ]
  },
  {
   "cell_type": "code",
   "execution_count": null,
   "id": "de891500-6c6b-44c8-b6a0-edf778cc4cdb",
   "metadata": {},
   "outputs": [],
   "source": [
    "\"\"\"Q9. Write a code to print odd numbers from 1 to 100 using list comprehension.\n",
    "Note: Use a list comprehension to create a list from 1 to 100 and use another List comprehension to filter out odd numbers.\"\"\"\n",
    "l1=[]\n",
    "l2=[]\n",
    "for i in range(1,101):\n",
    "    l1.append(i)\n",
    "\n",
    "print(l1)\n",
    "for i in l1:\n",
    "    if i%2!=0:\n",
    "        l2.append(i)\n",
    "\n",
    "print(l2)\n"
   ]
  }
 ],
 "metadata": {
  "kernelspec": {
   "display_name": "Python 3 (ipykernel)",
   "language": "python",
   "name": "python3"
  },
  "language_info": {
   "codemirror_mode": {
    "name": "ipython",
    "version": 3
   },
   "file_extension": ".py",
   "mimetype": "text/x-python",
   "name": "python",
   "nbconvert_exporter": "python",
   "pygments_lexer": "ipython3",
   "version": "3.10.8"
  }
 },
 "nbformat": 4,
 "nbformat_minor": 5
}
