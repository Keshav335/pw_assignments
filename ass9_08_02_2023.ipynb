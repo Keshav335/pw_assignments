{
 "cells": [
  {
   "cell_type": "code",
   "execution_count": 1,
   "id": "6174446e-7723-4e9e-8c3b-b98040a38b92",
   "metadata": {},
   "outputs": [
    {
     "name": "stdout",
     "output_type": "stream",
     "text": [
      "The mileage of electric car is 30 kmph\n",
      "The mileage of petrol car is 25 kmph\n"
     ]
    }
   ],
   "source": [
    "\"\"\"Q1 What is Abstraction in OOps? Explain with an example.\"\"\"\n",
    "\"\"\"Abstraction is defined as a process of handling complexity by hiding unnecessary information from the user.This is one of the core \n",
    "concepts of object-oriented programming (OOP) languages.In Python, abstraction can be achieved by using abstract classes and interfaces.\n",
    "example of abstraction in python=\"\"\"\n",
    "from abc import ABC, abstractmethod\n",
    "\n",
    "class Car(ABC):\n",
    "    @abstractmethod\n",
    "    def calculate_mileage(self):\n",
    "        pass\n",
    "\n",
    "class ElectricCar(Car):\n",
    "    def calculate_mileage(self):\n",
    "        print(\"The mileage of electric car is 30 kmph\")\n",
    "\n",
    "class PetrolCar(Car):\n",
    "    def calculate_mileage(self):\n",
    "        print(\"The mileage of petrol car is 25 kmph\")\n",
    "\n",
    "\n",
    "e_car = ElectricCar()\n",
    "e_car.calculate_mileage()\n",
    "\n",
    "p_car = PetrolCar()\n",
    "p_car.calculate_mileage()"
   ]
  },
  {
   "cell_type": "code",
   "execution_count": null,
   "id": "44d98942-168a-4128-83e4-a263cd786527",
   "metadata": {},
   "outputs": [],
   "source": [
    "\"\"\"Q2. Differentiate between Abstraction and Encapsulation. Explain with an example.\"\"\"\n",
    "\n",
    "\"\"\"Abstraction refers to the process of hiding the internal details of an object or system, and exposing only the relevant features or \n",
    "functionalities.\n",
    "example:use of abstract method\n",
    "\n",
    "Encapsulation, on the other hand, refers to the process of binding the data (attributes) and methods (functions) that operate on the data \n",
    "into a single entity.\n",
    "example: binding data and functions inside a class.\"\"\"\n"
   ]
  },
  {
   "cell_type": "code",
   "execution_count": null,
   "id": "77d0303a-5e9f-4e00-af23-9612f887e32a",
   "metadata": {},
   "outputs": [],
   "source": [
    "\"\"\"Q3. What is abc module in python? Why is it used?\"\"\"\n",
    "\"\"\"The 'abc' module in Python stands for Abstract Base Classes. It is a built-in module in Python that provides a way to define abstract \n",
    "base classes.Abstract base classes are classes that define an interface, but do not provide an implementation for that interface. Instead,\n",
    "they leave it to their subclasses to provide the implementation.\"\"\""
   ]
  },
  {
   "cell_type": "code",
   "execution_count": null,
   "id": "125b45f6-c844-482e-a6ce-ee99038ac39d",
   "metadata": {},
   "outputs": [],
   "source": [
    "\"\"\"Q4  How can we achieve data abstraction?\"\"\"\n",
    "\"\"\"by using abstract base classes.import abstract metheod(decorator) from ABC package and use it inside the class wile defining class \n",
    "function.\"\"\""
   ]
  },
  {
   "cell_type": "code",
   "execution_count": null,
   "id": "6d9e95b2-17e7-4729-8336-277d003c0b3b",
   "metadata": {},
   "outputs": [],
   "source": [
    "\"\"\"Q5. Can we create an instance of an abstract class? Explain your answer.\"\"\"\n",
    "\"\"\"An abstract class is a class that contains one or more abstract methods, which are methods that are declared but have no implementation.\n",
    " An abstract class is designed to be subclassed, and it provides a common interface that its subclasses must follow.\"\"\""
   ]
  }
 ],
 "metadata": {
  "kernelspec": {
   "display_name": "Python 3 (ipykernel)",
   "language": "python",
   "name": "python3"
  },
  "language_info": {
   "codemirror_mode": {
    "name": "ipython",
    "version": 3
   },
   "file_extension": ".py",
   "mimetype": "text/x-python",
   "name": "python",
   "nbconvert_exporter": "python",
   "pygments_lexer": "ipython3",
   "version": "3.10.8"
  }
 },
 "nbformat": 4,
 "nbformat_minor": 5
}
