{
 "cells": [
  {
   "cell_type": "code",
   "execution_count": 4,
   "id": "4cbe8928-f220-4b61-b9f4-0c702d1e06e2",
   "metadata": {},
   "outputs": [],
   "source": [
    "#Q1, Create a vehicle class with an init method having instance variables as name_of_vehicle, max_speed and average_of_vehicle.\n",
    "class Vehicle:\n",
    "    def __init__(self, name_of_vehicle, max_speed, average_of_vehicle):\n",
    "        self.name_of_vehicle = name_of_vehicle\n",
    "        self.max_speed = max_speed\n",
    "        self.average_of_vehicle = average_of_vehicle"
   ]
  },
  {
   "cell_type": "code",
   "execution_count": 5,
   "id": "e413786a-8ce3-42dc-a73b-70af35e23382",
   "metadata": {},
   "outputs": [],
   "source": [
    "#Q2.  Create a child class car from the vehicle class created in Que 1, which will inherit the vehicle class.Create a method named seating_capacity \n",
    "#which takes capacity as an argument and returns the name of the vehicle and its seating capacity\n",
    "class Car(Vehicle):\n",
    "    def __init__(self, name_of_vehicle, max_speed, average_of_vehicle):\n",
    "        super().__init__(name_of_vehicle, max_speed, average_of_vehicle)\n",
    "\n",
    "    def seating_capacity(self, capacity):\n",
    "        return f\"{self.name_of_vehicle} has a seating capacity of {capacity} people.\""
   ]
  },
  {
   "cell_type": "code",
   "execution_count": 6,
   "id": "fb9032c7-d7c2-493c-aaba-8de3284b046b",
   "metadata": {},
   "outputs": [
    {
     "name": "stdout",
     "output_type": "stream",
     "text": [
      "method_a from class A\n",
      "method_b from class B\n",
      "method_c from class C\n"
     ]
    }
   ],
   "source": [
    "#Q3. What is multiple inheritance? Write a python code to demonstrate multiple inheritance.\n",
    "#Ans In multiple inheritance a class inherits the properties of more then one parent classes.\n",
    "class A:\n",
    "    def method_a(self):\n",
    "        print(\"method_a from class A\")\n",
    "\n",
    "\n",
    "class B:\n",
    "    def method_b(self):\n",
    "        print(\"method_b from class B\")\n",
    "\n",
    "\n",
    "class C(A, B):\n",
    "    def method_c(self):\n",
    "        print(\"method_c from class C\")\n",
    "\n",
    "c = C()\n",
    "c.method_a()  \n",
    "c.method_b() \n",
    "c.method_c()  "
   ]
  },
  {
   "cell_type": "code",
   "execution_count": 7,
   "id": "cb4fff55-c028-48bf-a46a-b8d8d719d478",
   "metadata": {},
   "outputs": [
    {
     "name": "stdout",
     "output_type": "stream",
     "text": [
      "BMW\n",
      "AUDI\n"
     ]
    }
   ],
   "source": [
    "#Q4. What are getter and setter in python? Create a class and create a getter and a setter method in this class.\n",
    "#In Python, getter and setter methods are used to encapsulate class attributes and ensure data integrity. \n",
    "#Getter methods are used to retrieve the value of a private attribute, while setter methods are used to set the value of a private attribute.\n",
    "class Car:\n",
    "    def __init__(self, name):\n",
    "        self.__name = name   \n",
    "\n",
    "    def get_name(self):     \n",
    "        return self.__name\n",
    "\n",
    "    def set_name(self, name):  \n",
    "        self.__name = name\n",
    "\n",
    "p = Car(\"BMW\")\n",
    "print(p.get_name())  \n",
    "p.set_name(\"AUDI\")\n",
    "print(p.get_name())   "
   ]
  },
  {
   "cell_type": "code",
   "execution_count": 8,
   "id": "9c550379-c701-423c-bd80-261308ce1e8a",
   "metadata": {},
   "outputs": [
    {
     "name": "stdout",
     "output_type": "stream",
     "text": [
      "50\n"
     ]
    }
   ],
   "source": [
    "#Q5.What is method overriding in python? Write a python code to demonstrate method overriding.\n",
    "#Method overriding is a feature of object-oriented programming that allows a subclass to provide its own implementation for a method that is \n",
    "#already defined in its parent class.\n",
    "class Shape:\n",
    "    def area(self):\n",
    "        pass\n",
    "class Rectangle(Shape):\n",
    "    def __init__(self, width, height):\n",
    "        self.width = width\n",
    "        self.height = height\n",
    "    def area(self):\n",
    "        return self.width * self.height\n",
    "rectangle = Rectangle(5, 10)\n",
    "print(rectangle.area())  \n",
    "\n"
   ]
  },
  {
   "cell_type": "code",
   "execution_count": null,
   "id": "392739e8-71a8-45d7-bced-fdf174dd6bd0",
   "metadata": {},
   "outputs": [],
   "source": []
  }
 ],
 "metadata": {
  "kernelspec": {
   "display_name": "Python 3 (ipykernel)",
   "language": "python",
   "name": "python3"
  },
  "language_info": {
   "codemirror_mode": {
    "name": "ipython",
    "version": 3
   },
   "file_extension": ".py",
   "mimetype": "text/x-python",
   "name": "python",
   "nbconvert_exporter": "python",
   "pygments_lexer": "ipython3",
   "version": "3.10.8"
  }
 },
 "nbformat": 4,
 "nbformat_minor": 5
}
